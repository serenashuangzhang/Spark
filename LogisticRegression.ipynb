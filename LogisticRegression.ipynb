{
 "cells": [
  {
   "cell_type": "code",
   "execution_count": 1,
   "metadata": {
    "collapsed": true
   },
   "outputs": [],
   "source": [
    "import pandas as pd\n",
    "import numpy as np"
   ]
  },
  {
   "cell_type": "code",
   "execution_count": 2,
   "metadata": {
    "collapsed": false
   },
   "outputs": [],
   "source": [
    "df = pd.read_csv('../data/traveler-conversion.csv',sep=',')"
   ]
  },
  {
   "cell_type": "code",
   "execution_count": 3,
   "metadata": {
    "collapsed": false
   },
   "outputs": [
    {
     "data": {
      "text/html": [
       "<div>\n",
       "<table border=\"1\" class=\"dataframe\">\n",
       "  <thead>\n",
       "    <tr style=\"text-align: right;\">\n",
       "      <th></th>\n",
       "      <th>visitorId</th>\n",
       "      <th>timeOnSite</th>\n",
       "      <th>numPDPViews</th>\n",
       "      <th>numUniquePDPViews</th>\n",
       "      <th>numPDPFavorited</th>\n",
       "      <th>numSearchesCompleted</th>\n",
       "      <th>completedDatedSearch</th>\n",
       "      <th>numUniqueDatedSearchesCompleted</th>\n",
       "      <th>enteredNumGuests</th>\n",
       "      <th>performedCustomSort</th>\n",
       "      <th>appliedAnyFilter</th>\n",
       "      <th>appliedPriceFilter</th>\n",
       "      <th>searchedBookItNow</th>\n",
       "      <th>searchedInstantBook</th>\n",
       "      <th>inquired</th>\n",
       "      <th>sentBookingRequest</th>\n",
       "    </tr>\n",
       "  </thead>\n",
       "  <tbody>\n",
       "    <tr>\n",
       "      <th>0</th>\n",
       "      <td>5.922358e+18</td>\n",
       "      <td>0.320883</td>\n",
       "      <td>1</td>\n",
       "      <td>1</td>\n",
       "      <td>0</td>\n",
       "      <td>0</td>\n",
       "      <td>False</td>\n",
       "      <td>0</td>\n",
       "      <td>False</td>\n",
       "      <td>False</td>\n",
       "      <td>False</td>\n",
       "      <td>False</td>\n",
       "      <td>False</td>\n",
       "      <td>False</td>\n",
       "      <td>False</td>\n",
       "      <td>False</td>\n",
       "    </tr>\n",
       "    <tr>\n",
       "      <th>1</th>\n",
       "      <td>7.812656e+18</td>\n",
       "      <td>111.626495</td>\n",
       "      <td>1</td>\n",
       "      <td>1</td>\n",
       "      <td>0</td>\n",
       "      <td>1</td>\n",
       "      <td>True</td>\n",
       "      <td>1</td>\n",
       "      <td>False</td>\n",
       "      <td>False</td>\n",
       "      <td>False</td>\n",
       "      <td>False</td>\n",
       "      <td>False</td>\n",
       "      <td>False</td>\n",
       "      <td>False</td>\n",
       "      <td>False</td>\n",
       "    </tr>\n",
       "    <tr>\n",
       "      <th>2</th>\n",
       "      <td>9.183575e+18</td>\n",
       "      <td>179.577403</td>\n",
       "      <td>1</td>\n",
       "      <td>1</td>\n",
       "      <td>0</td>\n",
       "      <td>1</td>\n",
       "      <td>True</td>\n",
       "      <td>1</td>\n",
       "      <td>False</td>\n",
       "      <td>False</td>\n",
       "      <td>False</td>\n",
       "      <td>False</td>\n",
       "      <td>False</td>\n",
       "      <td>False</td>\n",
       "      <td>False</td>\n",
       "      <td>False</td>\n",
       "    </tr>\n",
       "    <tr>\n",
       "      <th>3</th>\n",
       "      <td>4.226089e+18</td>\n",
       "      <td>0.203085</td>\n",
       "      <td>0</td>\n",
       "      <td>0</td>\n",
       "      <td>0</td>\n",
       "      <td>0</td>\n",
       "      <td>False</td>\n",
       "      <td>0</td>\n",
       "      <td>False</td>\n",
       "      <td>False</td>\n",
       "      <td>False</td>\n",
       "      <td>False</td>\n",
       "      <td>False</td>\n",
       "      <td>False</td>\n",
       "      <td>False</td>\n",
       "      <td>False</td>\n",
       "    </tr>\n",
       "    <tr>\n",
       "      <th>4</th>\n",
       "      <td>4.006937e+18</td>\n",
       "      <td>7.169975</td>\n",
       "      <td>1</td>\n",
       "      <td>1</td>\n",
       "      <td>0</td>\n",
       "      <td>0</td>\n",
       "      <td>False</td>\n",
       "      <td>0</td>\n",
       "      <td>False</td>\n",
       "      <td>False</td>\n",
       "      <td>False</td>\n",
       "      <td>False</td>\n",
       "      <td>False</td>\n",
       "      <td>False</td>\n",
       "      <td>False</td>\n",
       "      <td>False</td>\n",
       "    </tr>\n",
       "  </tbody>\n",
       "</table>\n",
       "</div>"
      ],
      "text/plain": [
       "      visitorId  timeOnSite  numPDPViews  numUniquePDPViews  numPDPFavorited  \\\n",
       "0  5.922358e+18    0.320883            1                  1                0   \n",
       "1  7.812656e+18  111.626495            1                  1                0   \n",
       "2  9.183575e+18  179.577403            1                  1                0   \n",
       "3  4.226089e+18    0.203085            0                  0                0   \n",
       "4  4.006937e+18    7.169975            1                  1                0   \n",
       "\n",
       "   numSearchesCompleted completedDatedSearch  numUniqueDatedSearchesCompleted  \\\n",
       "0                     0                False                                0   \n",
       "1                     1                 True                                1   \n",
       "2                     1                 True                                1   \n",
       "3                     0                False                                0   \n",
       "4                     0                False                                0   \n",
       "\n",
       "  enteredNumGuests performedCustomSort appliedAnyFilter appliedPriceFilter  \\\n",
       "0            False               False            False              False   \n",
       "1            False               False            False              False   \n",
       "2            False               False            False              False   \n",
       "3            False               False            False              False   \n",
       "4            False               False            False              False   \n",
       "\n",
       "  searchedBookItNow searchedInstantBook inquired sentBookingRequest  \n",
       "0             False               False    False              False  \n",
       "1             False               False    False              False  \n",
       "2             False               False    False              False  \n",
       "3             False               False    False              False  \n",
       "4             False               False    False              False  "
      ]
     },
     "execution_count": 3,
     "metadata": {},
     "output_type": "execute_result"
    }
   ],
   "source": [
    "df.head(5)"
   ]
  },
  {
   "cell_type": "code",
   "execution_count": 4,
   "metadata": {
    "collapsed": true
   },
   "outputs": [],
   "source": [
    "cat_cols = ['completedDatedSearch','enteredNumGuests','performedCustomSort','appliedAnyFilter','appliedPriceFilter',\\\n",
    "           'searchedBookItNow','searchedInstantBook','inquired','sentBookingRequest']"
   ]
  },
  {
   "cell_type": "code",
   "execution_count": 5,
   "metadata": {
    "collapsed": false
   },
   "outputs": [
    {
     "name": "stdout",
     "output_type": "stream",
     "text": [
      "completedDatedSearch\n",
      "enteredNumGuests\n",
      "performedCustomSort\n",
      "appliedAnyFilter\n",
      "appliedPriceFilter\n",
      "searchedBookItNow\n",
      "searchedInstantBook\n",
      "inquired\n",
      "sentBookingRequest\n"
     ]
    }
   ],
   "source": [
    "for c in range(0,len(cat_cols)):\n",
    "    print cat_cols[c]\n",
    "    new = df[cat_cols[c]].astype(int)\n",
    "    df[cat_cols[c]] = new"
   ]
  },
  {
   "cell_type": "code",
   "execution_count": 6,
   "metadata": {
    "collapsed": true
   },
   "outputs": [],
   "source": [
    "np.random.seed(200)\n",
    "train, validate, test = np.split(df.sample(frac=1), [int(.6*len(df)), int(.8*len(df))])"
   ]
  },
  {
   "cell_type": "code",
   "execution_count": 7,
   "metadata": {
    "collapsed": true
   },
   "outputs": [],
   "source": [
    "train_X = train.ix[:,1:15]\n",
    "train_Y = train.ix[:,15]"
   ]
  },
  {
   "cell_type": "code",
   "execution_count": 8,
   "metadata": {
    "collapsed": false
   },
   "outputs": [
    {
     "data": {
      "text/plain": [
       "visitorId                         -0.004545\n",
       "timeOnSite                         0.125799\n",
       "numPDPViews                        0.087515\n",
       "numUniquePDPViews                  0.078225\n",
       "numPDPFavorited                    0.027340\n",
       "numSearchesCompleted               0.055905\n",
       "completedDatedSearch               0.070433\n",
       "numUniqueDatedSearchesCompleted    0.061142\n",
       "enteredNumGuests                   0.232891\n",
       "performedCustomSort                0.023665\n",
       "appliedAnyFilter                   0.052268\n",
       "appliedPriceFilter                 0.029172\n",
       "searchedBookItNow                       NaN\n",
       "searchedInstantBook                0.008316\n",
       "inquired                           0.057079\n",
       "sentBookingRequest                 1.000000\n",
       "Name: sentBookingRequest, dtype: float64"
      ]
     },
     "execution_count": 8,
     "metadata": {},
     "output_type": "execute_result"
    }
   ],
   "source": [
    "pd.DataFrame.corr(train)['sentBookingRequest']"
   ]
  },
  {
   "cell_type": "code",
   "execution_count": 9,
   "metadata": {
    "collapsed": false
   },
   "outputs": [
    {
     "data": {
      "text/plain": [
       "0    60000\n",
       "Name: searchedBookItNow, dtype: int64"
      ]
     },
     "execution_count": 9,
     "metadata": {},
     "output_type": "execute_result"
    }
   ],
   "source": [
    "train.searchedBookItNow.value_counts()"
   ]
  },
  {
   "cell_type": "code",
   "execution_count": 10,
   "metadata": {
    "collapsed": false
   },
   "outputs": [],
   "source": [
    "train = train.drop('searchedBookItNow',1)"
   ]
  },
  {
   "cell_type": "code",
   "execution_count": 11,
   "metadata": {
    "collapsed": false
   },
   "outputs": [
    {
     "name": "stdout",
     "output_type": "stream",
     "text": [
      "AUC for timeOnSite: 0.7050\n",
      "AUC for numPDPViews: 0.6462\n",
      "AUC for numUniquePDPViews: 0.6356\n",
      "AUC for numPDPFavorited: 0.5120\n",
      "AUC for numSearchesCompleted: 0.5862\n",
      "AUC for completedDatedSearch: 0.5869\n",
      "AUC for numUniqueDatedSearchesCompleted: 0.5895\n",
      "AUC for enteredNumGuests: 0.6650\n",
      "AUC for performedCustomSort: 0.5117\n",
      "AUC for appliedAnyFilter: 0.5457\n",
      "AUC for appliedPriceFilter: 0.5068\n",
      "AUC for searchedBookItNow: 0.5000\n",
      "AUC for searchedInstantBook: 0.5012\n",
      "AUC for inquired: 0.5227\n"
     ]
    }
   ],
   "source": [
    "from sklearn.metrics import roc_auc_score\n",
    "for i in range(0,len(train_X.columns)):\n",
    "    score = roc_auc_score(train_Y, train_X.ix[:,i])\n",
    "    print 'AUC for %s: %.4f' % (train_X.columns[i],score) "
   ]
  },
  {
   "cell_type": "code",
   "execution_count": 12,
   "metadata": {
    "collapsed": false
   },
   "outputs": [
    {
     "name": "stdout",
     "output_type": "stream",
     "text": [
      "[0.0, 0.0, 1.0, 2.0, 130.0]\n"
     ]
    }
   ],
   "source": [
    "threshold_list = train.numPDPViews.describe()[3:9].tolist()\n",
    "print threshold_list"
   ]
  },
  {
   "cell_type": "code",
   "execution_count": 13,
   "metadata": {
    "collapsed": false
   },
   "outputs": [
    {
     "name": "stdout",
     "output_type": "stream",
     "text": [
      "Accuracy is 0.0303 for Hueristic Model with threshold of 0.0\n",
      "Accuracy is 0.0303 for Hueristic Model with threshold of 0.0\n",
      "Accuracy is 0.3717 for Hueristic Model with threshold of 1.0\n",
      "Accuracy is 0.734 for Hueristic Model with threshold of 2.0\n",
      "Accuracy is 0.9697 for Hueristic Model with threshold of 130.0\n"
     ]
    }
   ],
   "source": [
    "validate_X = validate.ix[:,1:15]\n",
    "validate_Y = validate.ix[:,15]\n",
    "for t in range(0,len(threshold_list)):\n",
    "    feature = validate[['numPDPViews','sentBookingRequest']]\n",
    "    thres = threshold_list[t]\n",
    "    predictBookingRequest = feature.numPDPViews.apply(lambda x: 1 if x >= thres else 0)\n",
    "    feature = feature.assign(predictBookingRequest = predictBookingRequest).assign(correctPredictionHeuristic = lambda x: x.sentBookingRequest == predictBookingRequest)\n",
    "    accuracy = np.sum(feature.correctPredictionHeuristic)/float(len(feature.correctPredictionHeuristic))\n",
    "    print 'Accuracy is %s for Hueristic Model with threshold of %s' % (accuracy,thres)"
   ]
  },
  {
   "cell_type": "markdown",
   "metadata": {},
   "source": [
    "No I would not use this to predict booking request."
   ]
  },
  {
   "cell_type": "code",
   "execution_count": 14,
   "metadata": {
    "collapsed": false
   },
   "outputs": [
    {
     "name": "stdout",
     "output_type": "stream",
     "text": [
      "F_score is 0.0588 for Hueristic Model with threshold of 0.0\n",
      "F_score is 0.0588 for Hueristic Model with threshold of 0.0\n",
      "F_score is 0.0749 for Hueristic Model with threshold of 1.0\n",
      "F_score is 0.1032 for Hueristic Model with threshold of 2.0\n",
      "Unable to calculate precision and recall with threshold of 130.0\n"
     ]
    }
   ],
   "source": [
    "for t in range(0,len(threshold_list)):\n",
    "    #del feature\n",
    "    feature = validate[['numPDPViews','sentBookingRequest']]\n",
    "    thres = threshold_list[t]\n",
    "    predictBookingRequest = feature.numPDPViews.apply(lambda x: 1 if x >= thres else 0)\n",
    "    feature = feature.assign(predictBookingRequest = predictBookingRequest).assign(correctPredictionHeuristic = lambda x: x.sentBookingRequest == predictBookingRequest)\n",
    "  \n",
    "    TP = len(feature.loc[(feature.sentBookingRequest == 1) & (feature.predictBookingRequest == 1),'sentBookingRequest'])\n",
    "    TN = len(feature.loc[(feature.sentBookingRequest == 0) & (feature.predictBookingRequest == 0),'sentBookingRequest'])\n",
    "    FP = len(feature.loc[(feature.sentBookingRequest == 0) & (feature.predictBookingRequest == 1),'sentBookingRequest'])\n",
    "    FN = len(feature.loc[(feature.sentBookingRequest == 1) & (feature.predictBookingRequest == 0),'sentBookingRequest'])\n",
    "    if ((TP + FP) > 0) & ((TP + FN) >0):\n",
    "        precision = TP / float(TP + FP)\n",
    "        recall = TP / float(TP + FN)\n",
    "        f_score = 2*(precision*recall)/(precision + recall)\n",
    "        print 'F_score is %.4f for Hueristic Model with threshold of %s' % (f_score,thres)\n",
    "    else:\n",
    "        print 'Unable to calculate precision and recall with threshold of %s' % (thres)"
   ]
  },
  {
   "cell_type": "markdown",
   "metadata": {},
   "source": [
    "## 3. "
   ]
  },
  {
   "cell_type": "code",
   "execution_count": 15,
   "metadata": {
    "collapsed": false
   },
   "outputs": [
    {
     "data": {
      "text/plain": [
       "Index([u'timeOnSite', u'numPDPViews', u'numUniquePDPViews', u'numPDPFavorited',\n",
       "       u'numSearchesCompleted', u'completedDatedSearch',\n",
       "       u'numUniqueDatedSearchesCompleted', u'enteredNumGuests',\n",
       "       u'performedCustomSort', u'appliedAnyFilter', u'appliedPriceFilter',\n",
       "       u'searchedInstantBook', u'inquired'],\n",
       "      dtype='object')"
      ]
     },
     "execution_count": 15,
     "metadata": {},
     "output_type": "execute_result"
    }
   ],
   "source": [
    "train_X = train_X.drop(['searchedBookItNow'],1)\n",
    "train_X.columns"
   ]
  },
  {
   "cell_type": "markdown",
   "metadata": {},
   "source": [
    "Build a logistic regression model using all predictor variables (except searchedBookItNow) on the training data. Which predictors are statistically significant at significance level 0.05?"
   ]
  },
  {
   "cell_type": "code",
   "execution_count": 16,
   "metadata": {
    "collapsed": false
   },
   "outputs": [
    {
     "name": "stdout",
     "output_type": "stream",
     "text": [
      "                 Generalized Linear Model Regression Results                  \n",
      "==============================================================================\n",
      "Dep. Variable:     sentBookingRequest   No. Observations:                60000\n",
      "Model:                            GLM   Df Residuals:                    59987\n",
      "Model Family:                Binomial   Df Model:                           12\n",
      "Link Function:                  logit   Scale:                             1.0\n",
      "Method:                          IRLS   Log-Likelihood:                -27371.\n",
      "Date:                Sun, 23 Jul 2017   Deviance:                       54742.\n",
      "Time:                        15:17:08   Pearson chi2:                 8.90e+16\n",
      "No. Iterations:                    10                                         \n",
      "===================================================================================================\n",
      "                                      coef    std err          z      P>|z|      [95.0% Conf. Int.]\n",
      "---------------------------------------------------------------------------------------------------\n",
      "timeOnSite                         -0.0004    3.1e-05    -12.455      0.000        -0.000    -0.000\n",
      "numPDPViews                         0.4711      0.023     20.851      0.000         0.427     0.515\n",
      "numUniquePDPViews                  -1.7945      0.031    -58.413      0.000        -1.855    -1.734\n",
      "numPDPFavorited                     1.5009      0.097     15.456      0.000         1.311     1.691\n",
      "numSearchesCompleted               -0.6555      0.066     -9.897      0.000        -0.785    -0.526\n",
      "completedDatedSearch               -2.2954      0.075    -30.496      0.000        -2.443    -2.148\n",
      "numUniqueDatedSearchesCompleted     1.3027      0.080     16.265      0.000         1.146     1.460\n",
      "enteredNumGuests                    0.2949      0.059      5.022      0.000         0.180     0.410\n",
      "performedCustomSort                 0.2096      0.131      1.600      0.109        -0.047     0.466\n",
      "appliedAnyFilter                    0.1801      0.079      2.267      0.023         0.024     0.336\n",
      "appliedPriceFilter                  1.1269      0.246      4.576      0.000         0.644     1.610\n",
      "searchedInstantBook                -0.2565      0.418     -0.613      0.540        -1.077     0.564\n",
      "inquired                            0.2388      0.133      1.801      0.072        -0.021     0.499\n",
      "===================================================================================================\n"
     ]
    }
   ],
   "source": [
    "import statsmodels.api as sm\n",
    "result = sm.GLM(train_Y, train_X, family=sm.families.Binomial()).fit()\n",
    "print result.summary()"
   ]
  },
  {
   "cell_type": "code",
   "execution_count": 17,
   "metadata": {
    "collapsed": false
   },
   "outputs": [
    {
     "data": {
      "text/plain": [
       "array([[ 1.        ,  0.96883728],\n",
       "       [ 0.96883728,  1.        ]])"
      ]
     },
     "execution_count": 17,
     "metadata": {},
     "output_type": "execute_result"
    }
   ],
   "source": [
    "np.corrcoef(train_X['numPDPViews'],train_X['numUniquePDPViews'])"
   ]
  },
  {
   "cell_type": "markdown",
   "metadata": {},
   "source": [
    "*Why do you think the coefficient for numUniquePDPViews is positive while the coefficient for numPDPViews is negative.*\n",
    "\n",
    "- It's because the two variables have strongly correlated (correlation efficient >0.96)."
   ]
  },
  {
   "cell_type": "code",
   "execution_count": 18,
   "metadata": {
    "collapsed": false
   },
   "outputs": [],
   "source": [
    "train_X = train_X.drop('numPDPViews',1)"
   ]
  },
  {
   "cell_type": "markdown",
   "metadata": {},
   "source": [
    "*Using the validation dataset, test the model using only the significant variables identified above using the predict function. Plot the ROC curve for your model and compute the Area Under the ROC Curve (AUC). Try the plot.roc function in the \"pROC\" package.*\n"
   ]
  },
  {
   "cell_type": "code",
   "execution_count": 20,
   "metadata": {
    "collapsed": false
   },
   "outputs": [],
   "source": [
    "col_sig = ['timeOnSite','numUniquePDPViews','numPDPFavorited','numSearchesCompleted',\n",
    "           'completedDatedSearch','numUniqueDatedSearchesCompleted','enteredNumGuests',\n",
    "           'performedCustomSort','appliedPriceFilter','inquired']"
   ]
  },
  {
   "cell_type": "code",
   "execution_count": 37,
   "metadata": {
    "collapsed": false
   },
   "outputs": [
    {
     "data": {
      "image/png": "[encoded data removed]",
      "text/plain": [
       "<matplotlib.figure.Figure at 0x10f5d5a90>"
      ]
     },
     "metadata": {},
     "output_type": "display_data"
    }
   ],
   "source": [
    "from sklearn import metrics\n",
    "from sklearn.linear_model import LogisticRegression\n",
    "from ggplot import *\n",
    "import matplotlib.pyplot as plt\n",
    "\n",
    "result = sm.GLM(train_Y, train_X[col_sig], family=sm.families.Binomial()).fit()\n",
    "#print result.summary()\n",
    "\n",
    "preds =  result.predict(validate_X[col_sig])\n",
    "fpr, tpr, _ = metrics.roc_curve(validate_Y, preds)\n",
    "auc = metrics.auc(tpr, fpr)\n",
    "\n",
    "plt.figure()\n",
    "lw = 2\n",
    "plt.plot(tpr, fpr, color='darkorange',\n",
    "         lw=lw, label='ROC curve (area = %0.2f)' % auc)\n",
    "plt.plot([0, 1], [0, 1], color='navy', lw=lw, linestyle='--')\n",
    "plt.xlim([0.0, 1.0])\n",
    "plt.ylim([0.0, 1.05])\n",
    "plt.xlabel('False Positive Rate')\n",
    "plt.ylabel('True Positive Rate')\n",
    "plt.title('Receiver operating characteristic example')\n",
    "plt.legend(loc=\"lower right\")\n",
    "plt.show()"
   ]
  },
  {
   "cell_type": "code",
   "execution_count": 38,
   "metadata": {
    "collapsed": false
   },
   "outputs": [
    {
     "name": "stdout",
     "output_type": "stream",
     "text": [
      "F_score is 0.0467 for Logistic Regression Model with threshold of 0.01\n",
      "Accuracy is 0.14075 for Logistic Regression Model with threshold of 0.01\n",
      "Proportion of true \"bookers\" were you able to classify is 0.6947 with threshold of 0.01\n",
      "Proportion of true \"lookers\" were you able to classify is 0.1234 with threshold of 0.01\n",
      "F_score is 0.0400 for Logistic Regression Model with threshold of 0.1\n",
      "Accuracy is 0.26885 for Logistic Regression Model with threshold of 0.1\n",
      "Proportion of true \"bookers\" were you able to classify is 0.5033 with threshold of 0.1\n",
      "Proportion of true \"lookers\" were you able to classify is 0.2615 with threshold of 0.1\n",
      "F_score is 0.0387 for Logistic Regression Model with threshold of 0.2\n",
      "Accuracy is 0.31635 for Logistic Regression Model with threshold of 0.2\n",
      "Proportion of true \"bookers\" were you able to classify is 0.4538 with threshold of 0.2\n",
      "Proportion of true \"lookers\" were you able to classify is 0.3121 with threshold of 0.2\n",
      "F_score is 0.0800 for Logistic Regression Model with threshold of 0.5\n",
      "Accuracy is 0.9586 for Logistic Regression Model with threshold of 0.5\n",
      "Proportion of true \"bookers\" were you able to classify is 0.0594 with threshold of 0.5\n",
      "Proportion of true \"lookers\" were you able to classify is 0.9867 with threshold of 0.5\n"
     ]
    }
   ],
   "source": [
    "threshold_list = [0.01, 0.1, 0.2, 0.5]\n",
    "for t in range(0,len(threshold_list)):\n",
    "#     del feature\n",
    "    feature = validate[['visitorId','sentBookingRequest']]\n",
    "    feature = feature.assign(preds = preds)\n",
    "    thres = threshold_list[t]\n",
    "    predictBookingRequest = feature.preds.apply(lambda x: 1 if x >= thres else 0)\n",
    "    feature = feature.assign(predictBookingRequest = predictBookingRequest).assign(correctPredictionHeuristic = lambda x: x.sentBookingRequest == predictBookingRequest)\n",
    "\n",
    "    accuracy = np.sum(feature.correctPredictionHeuristic)/float(len(feature.correctPredictionHeuristic))\n",
    "    \n",
    "    TP = len(feature.loc[(feature.sentBookingRequest == 1) & (feature.predictBookingRequest == 1),'sentBookingRequest'])\n",
    "    TN = len(feature.loc[(feature.sentBookingRequest == 0) & (feature.predictBookingRequest == 0),'sentBookingRequest'])\n",
    "    FP = len(feature.loc[(feature.sentBookingRequest == 0) & (feature.predictBookingRequest == 1),'sentBookingRequest'])\n",
    "    FN = len(feature.loc[(feature.sentBookingRequest == 1) & (feature.predictBookingRequest == 0),'sentBookingRequest'])\n",
    "    if ((TP + FP) > 0) & ((TP + FN) >0):\n",
    "        precision = TP / float(TP + FP)\n",
    "        recall = TP / float(TP + FN)\n",
    "        f_score = 2*(precision*recall)/(precision + recall)\n",
    "        print 'F_score is %.4f for Logistic Regression Model with threshold of %s' % (f_score,thres)\n",
    "    else:\n",
    "        print 'Unable to calculate precision and recall with threshold of %s' % (thres)\n",
    "    print 'Accuracy is %s for Logistic Regression Model with threshold of %s' % (accuracy,thres)\n",
    "    print 'Proportion of true \"bookers\" were you able to classify is %.4f with threshold of %s' % (recall,thres)\n",
    "    print 'Proportion of true \"lookers\" were you able to classify is %.4f with threshold of %s' % (TN / float(TN + FP), thres)"
   ]
  },
  {
   "cell_type": "markdown",
   "metadata": {},
   "source": [
    "## Problem 4 "
   ]
  },
  {
   "cell_type": "markdown",
   "metadata": {},
   "source": [
    "This exercise will involve adding more complex model terms - interactions and polynomial terms. This will allow us to model nonlinear relationships as well as correctly take into account predictors that depend on each other.\n",
    "a. Build the same logistic regression model as in (3c), but this time, include all 2-variable interactions. This will result in a much larger number of variables in your model. "
   ]
  },
  {
   "cell_type": "code",
   "execution_count": 24,
   "metadata": {
    "collapsed": false
   },
   "outputs": [
    {
     "name": "stdout",
     "output_type": "stream",
     "text": [
      "                 Generalized Linear Model Regression Results                  \n",
      "==============================================================================\n",
      "Dep. Variable:     sentBookingRequest   No. Observations:                60000\n",
      "Model:                            GLM   Df Residuals:                    59940\n",
      "Model Family:                Binomial   Df Model:                           59\n",
      "Link Function:                  logit   Scale:                             1.0\n",
      "Method:                          IRLS   Log-Likelihood:                -6843.1\n",
      "Date:                Sun, 23 Jul 2017   Deviance:                       13686.\n",
      "Time:                        15:18:17   Pearson chi2:                 6.14e+04\n",
      "No. Iterations:                    26                                         \n",
      "==============================================================================\n",
      "                 coef    std err          z      P>|z|      [95.0% Conf. Int.]\n",
      "------------------------------------------------------------------------------\n",
      "const         -4.2645      0.042   -102.094      0.000        -4.346    -4.183\n",
      "x1             0.0005   7.07e-05      6.937      0.000         0.000     0.001\n",
      "x2             0.0516      0.018      2.948      0.003         0.017     0.086\n",
      "x3             0.2914      0.173      1.689      0.091        -0.047     0.630\n",
      "x4            -0.3553      0.141     -2.511      0.012        -0.633    -0.078\n",
      "x5             0.2011      0.065      3.099      0.002         0.074     0.328\n",
      "x6             1.1339      0.763      1.486      0.137        -0.362     2.630\n",
      "x7             1.2752      0.043     29.734      0.000         1.191     1.359\n",
      "x8            -0.0793      0.196     -0.404      0.686        -0.464     0.306\n",
      "x9            -0.2801      0.137     -2.052      0.040        -0.548    -0.013\n",
      "x10           -0.2948      0.068     -4.342      0.000        -0.428    -0.162\n",
      "x11        -8.393e-08   1.64e-08     -5.114      0.000     -1.16e-07 -5.18e-08\n",
      "x12         1.396e-05   5.02e-06      2.782      0.005      4.12e-06  2.38e-05\n",
      "x13         8.932e-05   3.44e-05      2.596      0.009      2.19e-05     0.000\n",
      "x14         6.814e-05   2.92e-05      2.332      0.020      1.09e-05     0.000\n",
      "x15        -7.582e-05   8.25e-05     -0.919      0.358        -0.000  8.59e-05\n",
      "x16        -7.593e-05   4.33e-05     -1.755      0.079        -0.000  8.86e-06\n",
      "x17            0.0005   7.51e-05      6.900      0.000         0.000     0.001\n",
      "x18        -2.461e-05      0.000     -0.234      0.815        -0.000     0.000\n",
      "x19            0.0003      0.000      2.097      0.036      1.97e-05     0.001\n",
      "x20           -0.0004      0.000     -3.979      0.000        -0.001    -0.000\n",
      "x21           -0.0013      0.000     -2.674      0.007        -0.002    -0.000\n",
      "x22           -0.0298      0.008     -3.515      0.000        -0.046    -0.013\n",
      "x23           -0.0068      0.008     -0.843      0.399        -0.023     0.009\n",
      "x24           -0.0168      0.018     -0.947      0.344        -0.052     0.018\n",
      "x25            0.0154      0.010      1.486      0.137        -0.005     0.036\n",
      "x26           -0.1797      0.021     -8.705      0.000        -0.220    -0.139\n",
      "x27           -0.0022      0.020     -0.111      0.911        -0.042     0.037\n",
      "x28           -0.1274      0.038     -3.340      0.001        -0.202    -0.053\n",
      "x29            0.0790      0.028      2.777      0.005         0.023     0.135\n",
      "x30           -0.0099      0.017     -0.569      0.569        -0.044     0.024\n",
      "x31            0.0052      0.084      0.061      0.951        -0.160     0.170\n",
      "x32            0.0238      0.161      0.148      0.882        -0.292     0.339\n",
      "x33            0.0182      0.101      0.181      0.857        -0.179     0.216\n",
      "x34           -0.2774      0.178     -1.561      0.118        -0.626     0.071\n",
      "x35            0.1083      0.125      0.869      0.385        -0.136     0.352\n",
      "x36           -0.5776      0.214     -2.704      0.007        -0.996    -0.159\n",
      "x37            0.1060      0.214      0.495      0.621        -0.314     0.526\n",
      "x38           -0.0086      0.013     -0.649      0.516        -0.035     0.017\n",
      "x39            0.3215      0.158      2.036      0.042         0.012     0.631\n",
      "x40            0.0454      0.040      1.136      0.256        -0.033     0.124\n",
      "x41           -0.1547      0.124     -1.247      0.212        -0.398     0.088\n",
      "x42           -0.0856      0.172     -0.497      0.619        -0.423     0.252\n",
      "x43           -0.6311      0.207     -3.045      0.002        -1.037    -0.225\n",
      "x44            0.0363      0.181      0.201      0.841        -0.318     0.391\n",
      "x45            0.2011      0.065      3.099      0.002         0.074     0.328\n",
      "x46           -1.0689      0.768     -1.391      0.164        -2.575     0.437\n",
      "x47           -0.0543      0.194     -0.281      0.779        -0.434     0.325\n",
      "x48            0.1077      0.422      0.255      0.799        -0.720     0.935\n",
      "x49           -0.2801      0.137     -2.052      0.040        -0.548    -0.013\n",
      "x50           -0.2887      0.315     -0.916      0.360        -0.906     0.329\n",
      "x51           -0.0661      0.036     -1.835      0.067        -0.137     0.005\n",
      "x52            0.0253      0.172      0.147      0.883        -0.312     0.363\n",
      "x53            0.1142      0.214      0.535      0.593        -0.304     0.533\n",
      "x54            1.2470      0.270      4.627      0.000         0.719     1.775\n",
      "x55            0.1536      0.250      0.614      0.539        -0.337     0.644\n",
      "x56            1.2752      0.043     29.734      0.000         1.191     1.359\n",
      "x57           -0.5587      0.301     -1.854      0.064        -1.149     0.032\n",
      "x58           -0.2378      0.496     -0.480      0.631        -1.209     0.734\n",
      "x59           -0.2948      0.068     -4.342      0.000        -0.428    -0.162\n",
      "x60           -0.0793      0.196     -0.404      0.686        -0.464     0.306\n",
      "x61            0.0289      0.469      0.062      0.951        -0.889     0.947\n",
      "x62            0.4432      0.415      1.067      0.286        -0.371     1.257\n",
      "x63           -0.2801      0.137     -2.052      0.040        -0.548    -0.013\n",
      "x64            0.7461      0.662      1.127      0.260        -0.551     2.043\n",
      "x65           -0.2948      0.068     -4.342      0.000        -0.428    -0.162\n",
      "==============================================================================\n"
     ]
    }
   ],
   "source": [
    "from sklearn.preprocessing import PolynomialFeatures\n",
    "x_t = PolynomialFeatures(2).fit_transform(train_X[col_sig])\n",
    "\n",
    "result_poly = sm.GLM(train_Y, x_t, family=sm.families.Binomial()).fit()\n",
    "print result_poly.summary()"
   ]
  },
  {
   "cell_type": "code",
   "execution_count": 27,
   "metadata": {
    "collapsed": false
   },
   "outputs": [
    {
     "name": "stdout",
     "output_type": "stream",
     "text": [
      "                 Generalized Linear Model Regression Results                  \n",
      "==============================================================================\n",
      "Dep. Variable:     sentBookingRequest   No. Observations:                60000\n",
      "Model:                            GLM   Df Residuals:                    59986\n",
      "Model Family:                Binomial   Df Model:                           13\n",
      "Link Function:                  logit   Scale:                             1.0\n",
      "Method:                          IRLS   Log-Likelihood:                -7031.9\n",
      "Date:                Sun, 23 Jul 2017   Deviance:                       14064.\n",
      "Time:                        15:18:53   Pearson chi2:                 5.86e+04\n",
      "No. Iterations:                     9                                         \n",
      "===========================================================================================================\n",
      "                                              coef    std err          z      P>|z|      [95.0% Conf. Int.]\n",
      "-----------------------------------------------------------------------------------------------------------\n",
      "Intercept                                  -4.0521      0.034   -117.625      0.000        -4.120    -3.985\n",
      "I(timeOnSite ** 2)                       3.777e-10    3.3e-10      1.144      0.252     -2.69e-10  1.02e-09\n",
      "I(numUniquePDPViews ** 2)                  -0.0002      0.000     -0.611      0.541        -0.001     0.000\n",
      "I(numPDPViews ** 2)                         0.0004      0.000      1.636      0.102      -8.8e-05     0.001\n",
      "I(numPDPFavorited ** 2)                     0.0037      0.005      0.684      0.494        -0.007     0.014\n",
      "I(numSearchesCompleted ** 2)               -0.0004      0.002     -0.271      0.786        -0.003     0.003\n",
      "I(numUniqueDatedSearchesCompleted ** 2)    -0.0022      0.004     -0.581      0.561        -0.010     0.005\n",
      "completedDatedSearch                        0.4345      0.063      6.913      0.000         0.311     0.558\n",
      "enteredNumGuests                            2.5463      0.058     43.725      0.000         2.432     2.660\n",
      "performedCustomSort                        -0.1636      0.123     -1.330      0.184        -0.405     0.078\n",
      "appliedAnyFilter                            0.1493      0.082      1.822      0.069        -0.011     0.310\n",
      "appliedPriceFilter                          0.2441      0.206      1.186      0.235        -0.159     0.647\n",
      "searchedInstantBook                        -0.3490      0.389     -0.896      0.370        -1.112     0.414\n",
      "inquired                                   -1.0643      0.113     -9.424      0.000        -1.286    -0.843\n",
      "===========================================================================================================\n"
     ]
    }
   ],
   "source": [
    "import statsmodels.api as sm\n",
    "import statsmodels.formula.api as smf\n",
    "import patsy \n",
    "\n",
    "formula = 'sentBookingRequest ~ I(timeOnSite**2) + I(numUniquePDPViews**2) + I(numPDPViews**2) +  I(numPDPFavorited**2) + I(numSearchesCompleted**2) + I(numUniqueDatedSearchesCompleted**2) + completedDatedSearch + enteredNumGuests + performedCustomSort + appliedAnyFilter + appliedPriceFilter + searchedInstantBook + inquired'\n",
    "resesult_quadra = smf.glm(formula = formula,data=train, family=sm.families.Binomial()).fit() \n",
    "print(resesult_quadra.summary())"
   ]
  },
  {
   "cell_type": "code",
   "execution_count": 28,
   "metadata": {
    "collapsed": false
   },
   "outputs": [
    {
     "name": "stdout",
     "output_type": "stream",
     "text": [
      "AUC for Model with 2-variable interactions is: 0.7626\n",
      "AUC for Model with Quadratic terms is: 0.7657\n"
     ]
    }
   ],
   "source": [
    "x_t_val = PolynomialFeatures(2).fit_transform(validate_X[col_sig])\n",
    "\n",
    "preds =  result_poly.predict(x_t_val)\n",
    "fpr, tpr, _ = metrics.roc_curve(validate_Y, preds)\n",
    "auc = metrics.auc(fpr,tpr)\n",
    "print 'AUC for Model with 2-variable interactions is: %.4f' % auc\n",
    "\n",
    "preds_quadra = resesult_quadra.predict(validate_X)\n",
    "fpr, tpr, _ = metrics.roc_curve(validate_Y, preds_quadra)\n",
    "auc = metrics.auc(fpr,tpr)\n",
    "print 'AUC for Model with Quadratic terms is: %.4f' % auc"
   ]
  },
  {
   "cell_type": "markdown",
   "metadata": {},
   "source": [
    "## KNN \n",
    "Pick a k (somewhere between 1-50) and fit your model using the code below. Calculate the Area Under the ROC Curve (AUC)."
   ]
  },
  {
   "cell_type": "code",
   "execution_count": 29,
   "metadata": {
    "collapsed": false
   },
   "outputs": [
    {
     "name": "stdout",
     "output_type": "stream",
     "text": [
      "AUC for KNN model with k = 3 is: 0.5460\n"
     ]
    }
   ],
   "source": [
    "from sklearn.neighbors import KNeighborsClassifier\n",
    "from sklearn.preprocessing import scale\n",
    "\n",
    "data_X = scale(train_X, with_mean=True)\n",
    "neigh = KNeighborsClassifier(n_neighbors=3)\n",
    "neigh.fit(data_X, train_Y) \n",
    "\n",
    "data_X_vald = scale(validate_X[train_X.columns], with_mean=True)\n",
    "data_Y_vald = neigh.predict(data_X_vald)\n",
    "fpr, tpr, _ = metrics.roc_curve(validate_Y, data_Y_vald)\n",
    "auc = metrics.auc(fpr,tpr)\n",
    "print 'AUC for KNN model with k = %1.0f is: %.4f' % (3,auc)"
   ]
  },
  {
   "cell_type": "code",
   "execution_count": 30,
   "metadata": {
    "collapsed": false
   },
   "outputs": [
    {
     "name": "stdout",
     "output_type": "stream",
     "text": [
      "AUC for KNN model with k = 1 is: 0.5531\n",
      "AUC for KNN model with k = 5 is: 0.5386\n",
      "AUC for KNN model with k = 10 is: 0.5262\n",
      "AUC for KNN model with k = 25 is: 0.5269\n",
      "AUC for KNN model with k = 50 is: 0.5176\n",
      "AUC for KNN model with k = 75 is: 0.5159\n"
     ]
    }
   ],
   "source": [
    "k_list = [1, 5, 10, 25, 50, 75]\n",
    "AUC_list = [0]*len(k_list)\n",
    "\n",
    "for k in range(0,len(k_list)):\n",
    "    k_val = k_list[k]\n",
    "    neigh = KNeighborsClassifier(n_neighbors=k_val)\n",
    "    neigh.fit(data_X, train_Y)\n",
    "    data_Y_vald = neigh.predict(data_X_vald)\n",
    "    fpr, tpr, _ = metrics.roc_curve(validate_Y, data_Y_vald)\n",
    "    AUC_list[k] = metrics.auc(fpr,tpr)\n",
    "    print 'AUC for KNN model with k = %1.0f is: %.4f' % (k_val,AUC_list[k])"
   ]
  },
  {
   "cell_type": "code",
   "execution_count": 32,
   "metadata": {
    "collapsed": false
   },
   "outputs": [
    {
     "data": {
      "image/png": "[encoded data removed]",
      "text/plain": [
       "<matplotlib.figure.Figure at 0x111197390>"
      ]
     },
     "metadata": {},
     "output_type": "display_data"
    }
   ],
   "source": [
    "plt.figure()\n",
    "lw = 2\n",
    "plt.plot(k_list, AUC_list, color='darkorange',lw=lw)\n",
    "plt.xlim([0.0, 75.0])\n",
    "plt.ylim([0.0, 0.8])\n",
    "plt.xlabel('K ')\n",
    "plt.ylabel('AUC')\n",
    "plt.title('AUC v.s K')\n",
    "plt.show()"
   ]
  },
  {
   "cell_type": "markdown",
   "metadata": {},
   "source": [
    "Pick your logistic regression model in (3c) and compare it to your best k-NN model. Now, we will finally use the test set to determine the best overall model. Calculate the Area Under the ROC Curve (AUC) of each model on the test set. Which model performs better?"
   ]
  },
  {
   "cell_type": "code",
   "execution_count": 34,
   "metadata": {
    "collapsed": false
   },
   "outputs": [
    {
     "name": "stdout",
     "output_type": "stream",
     "text": [
      "AUC for Logistic Regression model is: 0.5159\n"
     ]
    }
   ],
   "source": [
    "test_X = test[col_sig]\n",
    "test_Y = test['sentBookingRequest']\n",
    "preds =  result.predict(test_X)\n",
    "fpr, tpr, _ = metrics.roc_curve(test_Y, preds)\n",
    "auc = metrics.auc(fpr,tpr)\n",
    "print 'AUC for Logistic Regression model is: %.4f' % (AUC_list[k])"
   ]
  },
  {
   "cell_type": "code",
   "execution_count": 35,
   "metadata": {
    "collapsed": false
   },
   "outputs": [
    {
     "name": "stdout",
     "output_type": "stream",
     "text": [
      "AUC for KNN model with k = 3 is: 0.5454\n"
     ]
    }
   ],
   "source": [
    "data_X_test = scale(test[train_X.columns], with_mean=True)\n",
    "neigh = KNeighborsClassifier(n_neighbors=3)\n",
    "neigh.fit(data_X, train_Y) \n",
    "data_Y_test = neigh.predict(data_X_test)\n",
    "fpr, tpr, _ = metrics.roc_curve(test_Y, data_Y_test)\n",
    "auc = metrics.auc(fpr,tpr)\n",
    "print 'AUC for KNN model with k = %1.0f is: %.4f' % (3,auc)"
   ]
  },
  {
   "cell_type": "code",
   "execution_count": null,
   "metadata": {
    "collapsed": true
   },
   "outputs": [],
   "source": []
  }
 ],
 "metadata": {
  "kernelspec": {
   "display_name": "Python 2",
   "language": "python",
   "name": "python2"
  },
  "language_info": {
   "codemirror_mode": {
    "name": "ipython",
    "version": 2
   },
   "file_extension": ".py",
   "mimetype": "text/x-python",
   "name": "python",
   "nbconvert_exporter": "python",
   "pygments_lexer": "ipython2",
   "version": "2.7.13"
  }
 },
 "nbformat": 4,
 "nbformat_minor": 2
}
