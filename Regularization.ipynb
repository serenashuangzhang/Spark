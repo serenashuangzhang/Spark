{
 "cells": [
  {
   "cell_type": "markdown",
   "metadata": {},
   "source": [
    "## 0. Load the data set into Pandas for a first look "
   ]
  },
  {
   "cell_type": "code",
   "execution_count": 4,
   "metadata": {
    "collapsed": false
   },
   "outputs": [],
   "source": [
    "import pandas as pd\n",
    "import numpy as np\n",
    "\n",
    "df = pd.read_csv('../data/leads.csv',sep = ',',index_col=0)"
   ]
  },
  {
   "cell_type": "code",
   "execution_count": 5,
   "metadata": {
    "collapsed": false
   },
   "outputs": [
    {
     "data": {
      "text/html": [
       "<div>\n",
       "<table border=\"1\" class=\"dataframe\">\n",
       "  <thead>\n",
       "    <tr style=\"text-align: right;\">\n",
       "      <th></th>\n",
       "      <th>conversionIndex</th>\n",
       "      <th>hits</th>\n",
       "      <th>sessions</th>\n",
       "      <th>timeSpan</th>\n",
       "      <th>freq</th>\n",
       "      <th>pageView</th>\n",
       "      <th>timeSite</th>\n",
       "      <th>recency</th>\n",
       "    </tr>\n",
       "  </thead>\n",
       "  <tbody>\n",
       "    <tr>\n",
       "      <th>1</th>\n",
       "      <td>converted</td>\n",
       "      <td>115</td>\n",
       "      <td>15</td>\n",
       "      <td>3487.430833</td>\n",
       "      <td>0.004301</td>\n",
       "      <td>86</td>\n",
       "      <td>9248.227000</td>\n",
       "      <td>510587.574</td>\n",
       "    </tr>\n",
       "    <tr>\n",
       "      <th>2</th>\n",
       "      <td>converted</td>\n",
       "      <td>747</td>\n",
       "      <td>65</td>\n",
       "      <td>2420.979916</td>\n",
       "      <td>0.026849</td>\n",
       "      <td>631</td>\n",
       "      <td>41107.365000</td>\n",
       "      <td>254901.900</td>\n",
       "    </tr>\n",
       "    <tr>\n",
       "      <th>3</th>\n",
       "      <td>converted</td>\n",
       "      <td>57</td>\n",
       "      <td>2</td>\n",
       "      <td>33.217291</td>\n",
       "      <td>0.060210</td>\n",
       "      <td>39</td>\n",
       "      <td>1744.337000</td>\n",
       "      <td>117837.909</td>\n",
       "    </tr>\n",
       "    <tr>\n",
       "      <th>4</th>\n",
       "      <td>converted</td>\n",
       "      <td>772</td>\n",
       "      <td>56</td>\n",
       "      <td>3278.984562</td>\n",
       "      <td>0.017078</td>\n",
       "      <td>527</td>\n",
       "      <td>35860.027000</td>\n",
       "      <td>302265.781</td>\n",
       "    </tr>\n",
       "    <tr>\n",
       "      <th>5</th>\n",
       "      <td>converted</td>\n",
       "      <td>217</td>\n",
       "      <td>8</td>\n",
       "      <td>1232.168893</td>\n",
       "      <td>0.006493</td>\n",
       "      <td>114</td>\n",
       "      <td>6476.086000</td>\n",
       "      <td>11397.767</td>\n",
       "    </tr>\n",
       "    <tr>\n",
       "      <th>6</th>\n",
       "      <td>converted</td>\n",
       "      <td>260</td>\n",
       "      <td>10</td>\n",
       "      <td>1526.218268</td>\n",
       "      <td>0.006552</td>\n",
       "      <td>177</td>\n",
       "      <td>13556.461000</td>\n",
       "      <td>650750.146</td>\n",
       "    </tr>\n",
       "    <tr>\n",
       "      <th>7</th>\n",
       "      <td>converted</td>\n",
       "      <td>831</td>\n",
       "      <td>77</td>\n",
       "      <td>1913.524176</td>\n",
       "      <td>0.040240</td>\n",
       "      <td>652</td>\n",
       "      <td>35857.966999</td>\n",
       "      <td>101816.000</td>\n",
       "    </tr>\n",
       "    <tr>\n",
       "      <th>8</th>\n",
       "      <td>converted</td>\n",
       "      <td>1089</td>\n",
       "      <td>43</td>\n",
       "      <td>1639.570187</td>\n",
       "      <td>0.026226</td>\n",
       "      <td>477</td>\n",
       "      <td>46121.375000</td>\n",
       "      <td>6816.118</td>\n",
       "    </tr>\n",
       "    <tr>\n",
       "      <th>9</th>\n",
       "      <td>converted</td>\n",
       "      <td>51</td>\n",
       "      <td>2</td>\n",
       "      <td>2.057013</td>\n",
       "      <td>0.972284</td>\n",
       "      <td>39</td>\n",
       "      <td>5459.559000</td>\n",
       "      <td>1945.688</td>\n",
       "    </tr>\n",
       "    <tr>\n",
       "      <th>10</th>\n",
       "      <td>converted</td>\n",
       "      <td>467</td>\n",
       "      <td>45</td>\n",
       "      <td>1777.158351</td>\n",
       "      <td>0.025321</td>\n",
       "      <td>334</td>\n",
       "      <td>20272.104000</td>\n",
       "      <td>9.000</td>\n",
       "    </tr>\n",
       "  </tbody>\n",
       "</table>\n",
       "</div>"
      ],
      "text/plain": [
       "   conversionIndex  hits  sessions     timeSpan      freq  pageView  \\\n",
       "1        converted   115        15  3487.430833  0.004301        86   \n",
       "2        converted   747        65  2420.979916  0.026849       631   \n",
       "3        converted    57         2    33.217291  0.060210        39   \n",
       "4        converted   772        56  3278.984562  0.017078       527   \n",
       "5        converted   217         8  1232.168893  0.006493       114   \n",
       "6        converted   260        10  1526.218268  0.006552       177   \n",
       "7        converted   831        77  1913.524176  0.040240       652   \n",
       "8        converted  1089        43  1639.570187  0.026226       477   \n",
       "9        converted    51         2     2.057013  0.972284        39   \n",
       "10       converted   467        45  1777.158351  0.025321       334   \n",
       "\n",
       "        timeSite     recency  \n",
       "1    9248.227000  510587.574  \n",
       "2   41107.365000  254901.900  \n",
       "3    1744.337000  117837.909  \n",
       "4   35860.027000  302265.781  \n",
       "5    6476.086000   11397.767  \n",
       "6   13556.461000  650750.146  \n",
       "7   35857.966999  101816.000  \n",
       "8   46121.375000    6816.118  \n",
       "9    5459.559000    1945.688  \n",
       "10  20272.104000       9.000  "
      ]
     },
     "execution_count": 5,
     "metadata": {},
     "output_type": "execute_result"
    }
   ],
   "source": [
    "df.head(10)"
   ]
  },
  {
   "cell_type": "code",
   "execution_count": 12,
   "metadata": {
    "collapsed": false
   },
   "outputs": [
    {
     "data": {
      "text/plain": [
       "active       10399\n",
       "converted     3456\n",
       "Name: conversionIndex, dtype: int64"
      ]
     },
     "execution_count": 12,
     "metadata": {},
     "output_type": "execute_result"
    }
   ],
   "source": [
    "df['conversionIndex'].value_counts()"
   ]
  },
  {
   "cell_type": "code",
   "execution_count": 13,
   "metadata": {
    "collapsed": false
   },
   "outputs": [
    {
     "data": {
      "text/html": [
       "<div>\n",
       "<table border=\"1\" class=\"dataframe\">\n",
       "  <thead>\n",
       "    <tr style=\"text-align: right;\">\n",
       "      <th></th>\n",
       "      <th>hits</th>\n",
       "      <th>sessions</th>\n",
       "      <th>timeSpan</th>\n",
       "      <th>freq</th>\n",
       "      <th>pageView</th>\n",
       "      <th>timeSite</th>\n",
       "      <th>recency</th>\n",
       "    </tr>\n",
       "  </thead>\n",
       "  <tbody>\n",
       "    <tr>\n",
       "      <th>count</th>\n",
       "      <td>13855.000000</td>\n",
       "      <td>13855.00000</td>\n",
       "      <td>13855.000000</td>\n",
       "      <td>13855.000000</td>\n",
       "      <td>13855.000000</td>\n",
       "      <td>1.385500e+04</td>\n",
       "      <td>1.385500e+04</td>\n",
       "    </tr>\n",
       "    <tr>\n",
       "      <th>mean</th>\n",
       "      <td>85.155612</td>\n",
       "      <td>6.84410</td>\n",
       "      <td>380.126689</td>\n",
       "      <td>1505.234302</td>\n",
       "      <td>58.261494</td>\n",
       "      <td>4.960290e+03</td>\n",
       "      <td>9.981094e+05</td>\n",
       "    </tr>\n",
       "    <tr>\n",
       "      <th>std</th>\n",
       "      <td>248.171981</td>\n",
       "      <td>15.92488</td>\n",
       "      <td>733.481523</td>\n",
       "      <td>18510.832201</td>\n",
       "      <td>156.650294</td>\n",
       "      <td>2.620451e+04</td>\n",
       "      <td>6.659069e+05</td>\n",
       "    </tr>\n",
       "    <tr>\n",
       "      <th>min</th>\n",
       "      <td>2.000000</td>\n",
       "      <td>1.00000</td>\n",
       "      <td>0.000001</td>\n",
       "      <td>0.000876</td>\n",
       "      <td>1.000000</td>\n",
       "      <td>0.000000e+00</td>\n",
       "      <td>0.000000e+00</td>\n",
       "    </tr>\n",
       "    <tr>\n",
       "      <th>25%</th>\n",
       "      <td>6.000000</td>\n",
       "      <td>1.00000</td>\n",
       "      <td>0.067416</td>\n",
       "      <td>0.017889</td>\n",
       "      <td>4.000000</td>\n",
       "      <td>1.667890e+02</td>\n",
       "      <td>5.829213e+05</td>\n",
       "    </tr>\n",
       "    <tr>\n",
       "      <th>50%</th>\n",
       "      <td>16.000000</td>\n",
       "      <td>2.00000</td>\n",
       "      <td>1.729795</td>\n",
       "      <td>1.146751</td>\n",
       "      <td>10.000000</td>\n",
       "      <td>6.178310e+02</td>\n",
       "      <td>1.294587e+06</td>\n",
       "    </tr>\n",
       "    <tr>\n",
       "      <th>75%</th>\n",
       "      <td>67.000000</td>\n",
       "      <td>5.00000</td>\n",
       "      <td>428.799943</td>\n",
       "      <td>16.101691</td>\n",
       "      <td>42.000000</td>\n",
       "      <td>3.558329e+03</td>\n",
       "      <td>1.295830e+06</td>\n",
       "    </tr>\n",
       "    <tr>\n",
       "      <th>max</th>\n",
       "      <td>13046.000000</td>\n",
       "      <td>440.00000</td>\n",
       "      <td>3845.714025</td>\n",
       "      <td>719983.520885</td>\n",
       "      <td>6371.000000</td>\n",
       "      <td>1.979672e+06</td>\n",
       "      <td>1.205026e+07</td>\n",
       "    </tr>\n",
       "  </tbody>\n",
       "</table>\n",
       "</div>"
      ],
      "text/plain": [
       "               hits     sessions      timeSpan           freq      pageView  \\\n",
       "count  13855.000000  13855.00000  13855.000000   13855.000000  13855.000000   \n",
       "mean      85.155612      6.84410    380.126689    1505.234302     58.261494   \n",
       "std      248.171981     15.92488    733.481523   18510.832201    156.650294   \n",
       "min        2.000000      1.00000      0.000001       0.000876      1.000000   \n",
       "25%        6.000000      1.00000      0.067416       0.017889      4.000000   \n",
       "50%       16.000000      2.00000      1.729795       1.146751     10.000000   \n",
       "75%       67.000000      5.00000    428.799943      16.101691     42.000000   \n",
       "max    13046.000000    440.00000   3845.714025  719983.520885   6371.000000   \n",
       "\n",
       "           timeSite       recency  \n",
       "count  1.385500e+04  1.385500e+04  \n",
       "mean   4.960290e+03  9.981094e+05  \n",
       "std    2.620451e+04  6.659069e+05  \n",
       "min    0.000000e+00  0.000000e+00  \n",
       "25%    1.667890e+02  5.829213e+05  \n",
       "50%    6.178310e+02  1.294587e+06  \n",
       "75%    3.558329e+03  1.295830e+06  \n",
       "max    1.979672e+06  1.205026e+07  "
      ]
     },
     "execution_count": 13,
     "metadata": {},
     "output_type": "execute_result"
    }
   ],
   "source": [
    "df.describe()"
   ]
  },
  {
   "cell_type": "code",
   "execution_count": 17,
   "metadata": {
    "collapsed": false
   },
   "outputs": [],
   "source": [
    "Y = df.conversionIndex.apply(lambda x:1 if x == 'converted' else 0)\n",
    "X = df.ix[:,1:7]"
   ]
  },
  {
   "cell_type": "markdown",
   "metadata": {},
   "source": [
    "## 1.Build a logistic regression model to predict lead's converstion\n",
    "###  a. Randomly split the 70% data into training and 30% to testing"
   ]
  },
  {
   "cell_type": "code",
   "execution_count": 20,
   "metadata": {
    "collapsed": true
   },
   "outputs": [],
   "source": [
    "rng = np.random.RandomState(42)\n",
    "from sklearn.model_selection import train_test_split\n",
    "X_train, X_test, y_train, y_test = train_test_split(X, Y, test_size=0.3, random_state=rng)"
   ]
  },
  {
   "cell_type": "markdown",
   "metadata": {},
   "source": [
    "### b. Train a logistic regression model on the training set "
   ]
  },
  {
   "cell_type": "code",
   "execution_count": 105,
   "metadata": {
    "collapsed": false
   },
   "outputs": [
    {
     "data": {
      "text/plain": [
       "Pipeline(steps=[('logistic', LogisticRegression(C=10000000000.0, class_weight=None, dual=False,\n",
       "          fit_intercept=True, intercept_scaling=1, max_iter=100,\n",
       "          multi_class='ovr', n_jobs=1, penalty='l2', random_state=None,\n",
       "          solver='liblinear', tol=0.0001, verbose=0, warm_start=False))])"
      ]
     },
     "execution_count": 105,
     "metadata": {},
     "output_type": "execute_result"
    }
   ],
   "source": [
    "from sklearn.linear_model import LogisticRegression\n",
    "from sklearn.pipeline import Pipeline\n",
    "from sklearn.metrics import f1_score\n",
    "\n",
    "clf = LogisticRegression(C=1e10)   #de-regularize since sklearn uses L2 regularization by default\n",
    "pipe = Pipeline(steps=[('logistic',clf)])\n",
    "pipe.fit(X_train, y_train)"
   ]
  },
  {
   "cell_type": "markdown",
   "metadata": {},
   "source": [
    "### Test on the testing data set and generate F-1 score"
   ]
  },
  {
   "cell_type": "code",
   "execution_count": 106,
   "metadata": {
    "collapsed": true
   },
   "outputs": [],
   "source": [
    "y_preds = pipe.predict(X_test)"
   ]
  },
  {
   "cell_type": "code",
   "execution_count": 107,
   "metadata": {
    "collapsed": false
   },
   "outputs": [
    {
     "name": "stdout",
     "output_type": "stream",
     "text": [
      "F-1 Score: 0.8711\n"
     ]
    }
   ],
   "source": [
    "print 'F-1 Score: %.4f' % f1_score(y_test,y_preds)"
   ]
  },
  {
   "cell_type": "markdown",
   "metadata": {},
   "source": [
    "### c. Repeat 5 times"
   ]
  },
  {
   "cell_type": "code",
   "execution_count": 108,
   "metadata": {
    "collapsed": false
   },
   "outputs": [
    {
     "name": "stdout",
     "output_type": "stream",
     "text": [
      "F-1 Score: 0.8733\n",
      "F-1 Score: 0.8737\n",
      "F-1 Score: 0.8610\n",
      "F-1 Score: 0.8620\n",
      "F-1 Score: 0.8677\n"
     ]
    }
   ],
   "source": [
    "for i in range(0,5):\n",
    "    X_train, X_test, y_train, y_test = train_test_split(X, Y, test_size=0.3)\n",
    "    pipe.fit(X_train,y_train)\n",
    "    y_preds = pipe.predict(X_test)\n",
    "    print 'F-1 Score: %.4f' % f1_score(y_test,y_preds)"
   ]
  },
  {
   "cell_type": "markdown",
   "metadata": {},
   "source": [
    "### d. Use 5-fold cross-validation "
   ]
  },
  {
   "cell_type": "code",
   "execution_count": 109,
   "metadata": {
    "collapsed": false
   },
   "outputs": [
    {
     "name": "stdout",
     "output_type": "stream",
     "text": [
      "fold 0 F-1 score:0.8678\n",
      "fold 1 F-1 score:0.8691\n",
      "fold 2 F-1 score:0.8707\n",
      "fold 3 F-1 score:0.8624\n",
      "fold 4 F-1 score:0.8733\n",
      "fold 4 F-1 score for Test:0.8751\n"
     ]
    }
   ],
   "source": [
    "from sklearn.model_selection import KFold\n",
    "from sklearn.cross_validation import cross_val_score,cross_val_predict\n",
    "\n",
    "# scores = cross_val_score(pipe,X_train, y_train,cv=5)\n",
    "# kf = KFold(n_splits = 5)\n",
    "\n",
    "for k, (train_index,test_index) in enumerate(kf.split(X_train,y_train)):\n",
    "    clf.fit(X_train.iloc[train_index,:],y_train.iloc[train_index])\n",
    "    y_preds_kfold = pipe.predict(X_train.iloc[test_index,:])\n",
    "    print(\"fold %s F-1 score:%.4f\" % (k,f1_score(y_train.iloc[test_index],y_preds_kfold)))\n",
    "    if k == 4:\n",
    "        y_preds_test =  clf.predict(X_test)\n",
    "        print(\"fold %s F-1 score for Test:%.4f\" % (k,f1_score(y_test,y_preds_test)))\n",
    "   "
   ]
  },
  {
   "cell_type": "markdown",
   "metadata": {},
   "source": [
    "Use 5-fold cross-validation on the training data set to select the best model to be models using Fold 4. Tested on the testing data set to compare the F-1 scores to be 0.8698, higher than the score in (c)."
   ]
  },
  {
   "cell_type": "markdown",
   "metadata": {},
   "source": [
    "## 2. Feature selection "
   ]
  },
  {
   "cell_type": "markdown",
   "metadata": {},
   "source": [
    "### a. Select features using forward step wise approach.\n",
    "https://stats.stackexchange.com/questions/204141/difference-between-selecting-features-based-on-f-regression-and-based-on-r2\n"
   ]
  },
  {
   "cell_type": "code",
   "execution_count": 102,
   "metadata": {
    "collapsed": false
   },
   "outputs": [
    {
     "name": "stdout",
     "output_type": "stream",
     "text": [
      "[ 1703.62900196  3300.03217412  6261.21155415    21.64616029  2696.32504387\n",
      "   585.22865062]\n",
      "[  0.00000000e+000   0.00000000e+000   0.00000000e+000   3.32208732e-006\n",
      "   0.00000000e+000   1.37077146e-125]\n"
     ]
    }
   ],
   "source": [
    "from sklearn import feature_selection\n",
    "\n",
    "model = feature_selection.SelectKBest(score_func=feature_selection.f_regression,k=6)\n",
    "results = model.fit(X_train, y_train)\n",
    "\n",
    "print results.scores_\n",
    "print results.pvalues_"
   ]
  },
  {
   "cell_type": "code",
   "execution_count": 103,
   "metadata": {
    "collapsed": false
   },
   "outputs": [
    {
     "name": "stdout",
     "output_type": "stream",
     "text": [
      "0.870798102702\n",
      "0.882965559909\n",
      "0.857496391008\n",
      "0.753351206434\n",
      "0.896370385647\n",
      "0.922767580945\n"
     ]
    }
   ],
   "source": [
    "columns = X_train.columns\n",
    "for col in columns:\n",
    "    lm = LogisticRegression()\n",
    "    lm.fit(X_train[[col]], y_train)\n",
    "    print lm.score(X_train[[col]], y_train)"
   ]
  },
  {
   "cell_type": "markdown",
   "metadata": {},
   "source": [
    "## 3. Regularization "
   ]
  },
  {
   "cell_type": "code",
   "execution_count": 117,
   "metadata": {
    "collapsed": false
   },
   "outputs": [
    {
     "name": "stdout",
     "output_type": "stream",
     "text": [
      "c = 100.00\n",
      "score with L2 penalty: 0.7177\n",
      "('coefficients', array([ -1.11801388e-02,  -3.65663152e-03,   1.17044171e-06,\n",
      "        -6.99579881e-02,   1.23118727e-02,   1.82854422e-04]))\n",
      "c = 1.00\n",
      "score with L2 penalty: 0.7177\n",
      "('coefficients', array([ -1.11802008e-02,  -3.65663647e-03,   1.17142828e-06,\n",
      "        -6.99579322e-02,   1.23118364e-02,   1.82856137e-04]))\n",
      "c = 0.01\n",
      "score with L2 penalty: 0.7177\n",
      "('coefficients', array([ -1.11863951e-02,  -3.65713116e-03,   1.27006529e-06,\n",
      "        -6.99523426e-02,   1.23082110e-02,   1.83027508e-04]))\n",
      "c = 10000000000.00\n",
      "score with L2 penalty: 0.7177\n",
      "('coefficients', array([ -1.11801382e-02,  -3.65663147e-03,   1.17043173e-06,\n",
      "        -6.99579886e-02,   1.23118731e-02,   1.82854405e-04]))\n"
     ]
    }
   ],
   "source": [
    "# Set regularization parameter\n",
    "for i, C in enumerate((100, 1, 0.01,1e10)):\n",
    "    clf_l2 = LogisticRegression(penalty=\"l2\", C=C,tol=0.01)\n",
    "    clf_l2.fit(X_train,y_train)\n",
    "    coef_l2 = clf_l2.coef_.ravel()\n",
    "    print(\"c = %.2f\" % C)\n",
    "    print(\"F-1 score with L2 penalty: %.4f\" % f1_score(y_test,clf_l2.predict(X_test)))\n",
    "    print(\"coefficients\",coef_l2)"
   ]
  },
  {
   "cell_type": "markdown",
   "metadata": {},
   "source": [
    "### b) Lasso "
   ]
  },
  {
   "cell_type": "code",
   "execution_count": 119,
   "metadata": {
    "collapsed": false
   },
   "outputs": [
    {
     "name": "stdout",
     "output_type": "stream",
     "text": [
      "c = 100.00\n",
      "score with L2 penalty: 0.8267\n",
      "Coefficients [-0.00571802  0.01640109  0.00146459 -0.00012128  0.00681048  0.00035698]\n",
      "c = 1.00\n",
      "score with L2 penalty: 0.8369\n",
      "Coefficients [ -1.63138568e-03   1.73022561e-02   1.36197449e-03  -4.89618540e-05\n",
      "   2.44172994e-03   3.58914489e-04]\n",
      "c = 0.01\n",
      "score with L2 penalty: 0.8348\n",
      "Coefficients [ -1.08808859e-02   3.74491072e-03   1.38785157e-03  -4.94104950e-05\n",
      "   1.31005941e-02   3.59526209e-04]\n",
      "c = 10000000000.00\n",
      "score with L2 penalty: 0.8388\n",
      "Coefficients [ -8.79189650e-03  -2.68879979e-02   1.58246952e-03  -8.75322976e-05\n",
      "   1.63897909e-02   3.53924908e-04]\n"
     ]
    }
   ],
   "source": [
    "for i, C in enumerate((100, 1, 0.01,1e10)):\n",
    "    clf_l1 = LogisticRegression(penalty=\"l1\", C=C,tol=0.01)\n",
    "    clf_l1.fit(X_train,y_train)\n",
    "    coef_l1 = clf_l1.coef_.ravel()\n",
    "    print(\"c = %.2f\" % C)\n",
    "    print(\"F-1 score with L2 penalty: %.4f\" % f1_score(y_test,clf_l1.predict(X_test)))\n",
    "    print \"Coefficients\",coef_l1"
   ]
  },
  {
   "cell_type": "markdown",
   "metadata": {},
   "source": [
    "### c) Elastic Net "
   ]
  },
  {
   "cell_type": "code",
   "execution_count": 122,
   "metadata": {
    "collapsed": false
   },
   "outputs": [
    {
     "name": "stdout",
     "output_type": "stream",
     "text": [
      "L1 ratio: 0.10, F-1 score with Elastic Net: 0.5384\n",
      "L1 ratio: 0.40, F-1 score with Elastic Net: 0.6685\n",
      "L1 ratio: 0.50, F-1 score with Elastic Net: 0.5643\n",
      "L1 ratio: 0.70, F-1 score with Elastic Net: 0.7006\n",
      "L1 ratio: 0.90, F-1 score with Elastic Net: 0.5589\n"
     ]
    }
   ],
   "source": [
    "from sklearn.linear_model import SGDClassifier\n",
    "\n",
    "alpha = 0.1\n",
    "\n",
    "for i,l1_ratio in enumerate((0.1,0.4,0.5,0.7,0.9)):\n",
    "    enet = SGDClassifier(loss=\"log\", penalty=\"elasticnet\",alpha = alpha,l1_ratio = l1_ratio)\n",
    "    y_pred_enet = enet.fit(X_train,y_train).predict(X_test)\n",
    "    print \"L1 ratio: %.2f, F-1 score with Elastic Net: %.4f\" % (l1_ratio,f1_score(y_test,y_pred_enet))\n"
   ]
  }
 ],
 "metadata": {
  "kernelspec": {
   "display_name": "Python 2",
   "language": "python",
   "name": "python2"
  },
  "language_info": {
   "codemirror_mode": {
    "name": "ipython",
    "version": 2
   },
   "file_extension": ".py",
   "mimetype": "text/x-python",
   "name": "python",
   "nbconvert_exporter": "python",
   "pygments_lexer": "ipython2",
   "version": "2.7.13"
  }
 },
 "nbformat": 4,
 "nbformat_minor": 2
}
